<<<<<<< HEAD
{"nbformat":4,"nbformat_minor":0,"metadata":{"colab":{"provenance":[],"collapsed_sections":[],"authorship_tag":"ABX9TyM9gMDVtUc0JZMyfjLykMV1"},"kernelspec":{"name":"python3","display_name":"Python 3"},"language_info":{"name":"python"},"accelerator":"GPU"},"cells":[{"cell_type":"code","source":["import pandas as pd\n","import numpy as np\n","import os"],"metadata":{"id":"1b0UMhBTQ-Mu"},"execution_count":null,"outputs":[]},{"cell_type":"code","source":["from google.colab import drive \n","drive.mount('/content/gdrive/')\n","print('JU')\n","\n","%cd /content/gdrive/MyDrive/Colab_Notebooks/\n","! ls\n","df=pd.read_csv('./spaceship-titanic/train.csv')\n","df.info()"],"metadata":{"id":"2uTWnRcgxHai","executionInfo":{"status":"ok","timestamp":1665536353854,"user_tz":240,"elapsed":1908,"user":{"displayName":"Ankur Roy","userId":"11168470680870920627"}},"outputId":"c723a149-44b0-4e84-8736-dbe018d85aef","colab":{"base_uri":"https://localhost:8080/"}},"execution_count":null,"outputs":[{"output_type":"stream","name":"stdout","text":["Drive already mounted at /content/gdrive/; to attempt to forcibly remount, call drive.mount(\"/content/gdrive/\", force_remount=True).\n","JU\n","/content/gdrive/MyDrive/Colab_Notebooks\n","ML_project2.ipynb  spaceship-titanic\n","<class 'pandas.core.frame.DataFrame'>\n","RangeIndex: 8693 entries, 0 to 8692\n","Data columns (total 14 columns):\n"," #   Column        Non-Null Count  Dtype  \n","---  ------        --------------  -----  \n"," 0   PassengerId   8693 non-null   object \n"," 1   HomePlanet    8492 non-null   object \n"," 2   CryoSleep     8476 non-null   object \n"," 3   Cabin         8494 non-null   object \n"," 4   Destination   8511 non-null   object \n"," 5   Age           8514 non-null   float64\n"," 6   VIP           8490 non-null   object \n"," 7   RoomService   8512 non-null   float64\n"," 8   FoodCourt     8510 non-null   float64\n"," 9   ShoppingMall  8485 non-null   float64\n"," 10  Spa           8510 non-null   float64\n"," 11  VRDeck        8505 non-null   float64\n"," 12  Name          8493 non-null   object \n"," 13  Transported   8693 non-null   bool   \n","dtypes: bool(1), float64(6), object(7)\n","memory usage: 891.5+ KB\n"]}]},{"cell_type":"code","source":["os.getcwd()"],"metadata":{"id":"O8EU0X-9bmR7","colab":{"base_uri":"https://localhost:8080/","height":35},"executionInfo":{"status":"ok","timestamp":1665536370246,"user_tz":240,"elapsed":382,"user":{"displayName":"Ankur Roy","userId":"11168470680870920627"}},"outputId":"df9a50a7-0016-4296-dbb2-6923f9a2bd72"},"execution_count":null,"outputs":[{"output_type":"execute_result","data":{"text/plain":["'/content/gdrive/MyDrive/Colab_Notebooks'"],"application/vnd.google.colaboratory.intrinsic+json":{"type":"string"}},"metadata":{},"execution_count":12}]},{"cell_type":"code","source":["ls\n"],"metadata":{"colab":{"base_uri":"https://localhost:8080/"},"id":"elwKlGb-s7Dt","executionInfo":{"status":"ok","timestamp":1665537773539,"user_tz":240,"elapsed":369,"user":{"displayName":"Ankur Roy","userId":"11168470680870920627"}},"outputId":"150da75c-40da-4211-fe5e-3b4ce8b263f6"},"execution_count":null,"outputs":[{"output_type":"stream","name":"stdout","text":["ML_project2.ipynb  \u001b[0m\u001b[01;34mspaceship-titanic\u001b[0m/\n"]}]},{"cell_type":"code","source":["import seaborn as sns\n","import os"],"metadata":{"id":"k_1Wx3sxbmb8","colab":{"base_uri":"https://localhost:8080/"},"executionInfo":{"status":"ok","timestamp":1665540629129,"user_tz":240,"elapsed":229,"user":{"displayName":"Ankur Roy","userId":"11168470680870920627"}},"outputId":"536f5ada-37de-4083-aaca-428d8aa7bf0a"},"execution_count":null,"outputs":[{"output_type":"stream","name":"stdout","text":["/bin/bash: -c: line 1: syntax error: unexpected end of file\n"]}]}]}
=======
{
  "nbformat": 4,
  "nbformat_minor": 0,
  "metadata": {
    "colab": {
      "provenance": [],
      "collapsed_sections": [],
      "authorship_tag": "ABX9TyM9gMDVtUc0JZMyfjLykMV1",
      "include_colab_link": true
    },
    "kernelspec": {
      "name": "python3",
      "display_name": "Python 3"
    },
    "language_info": {
      "name": "python"
    },
    "accelerator": "GPU"
  },
  "cells": [
    {
      "cell_type": "markdown",
      "metadata": {
        "id": "view-in-github",
        "colab_type": "text"
      },
      "source": [
        "<a href=\"https://colab.research.google.com/github/ankur2392roy/ML_proj2/blob/master/ML_project2.ipynb\" target=\"_parent\"><img src=\"https://colab.research.google.com/assets/colab-badge.svg\" alt=\"Open In Colab\"/></a>"
      ]
    },
    {
      "cell_type": "code",
      "source": [
        "import pandas as pd\n",
        "import numpy as np\n",
        "import os"
      ],
      "metadata": {
        "id": "1b0UMhBTQ-Mu"
      },
      "execution_count": null,
      "outputs": []
    },
    {
      "cell_type": "code",
      "source": [
        "from google.colab import drive \n",
        "drive.mount('/content/gdrive/')\n",
        "print('JU')\n",
        "\n",
        "%cd /content/gdrive/MyDrive/Colab_Notebooks/\n",
        "! ls\n",
        "df=pd.read_csv('./spaceship-titanic/train.csv')\n",
        "df.info()"
      ],
      "metadata": {
        "id": "2uTWnRcgxHai",
        "outputId": "c723a149-44b0-4e84-8736-dbe018d85aef",
        "colab": {
          "base_uri": "https://localhost:8080/"
        }
      },
      "execution_count": null,
      "outputs": [
        {
          "output_type": "stream",
          "name": "stdout",
          "text": [
            "Drive already mounted at /content/gdrive/; to attempt to forcibly remount, call drive.mount(\"/content/gdrive/\", force_remount=True).\n",
            "JU\n",
            "/content/gdrive/MyDrive/Colab_Notebooks\n",
            "ML_project2.ipynb  spaceship-titanic\n",
            "<class 'pandas.core.frame.DataFrame'>\n",
            "RangeIndex: 8693 entries, 0 to 8692\n",
            "Data columns (total 14 columns):\n",
            " #   Column        Non-Null Count  Dtype  \n",
            "---  ------        --------------  -----  \n",
            " 0   PassengerId   8693 non-null   object \n",
            " 1   HomePlanet    8492 non-null   object \n",
            " 2   CryoSleep     8476 non-null   object \n",
            " 3   Cabin         8494 non-null   object \n",
            " 4   Destination   8511 non-null   object \n",
            " 5   Age           8514 non-null   float64\n",
            " 6   VIP           8490 non-null   object \n",
            " 7   RoomService   8512 non-null   float64\n",
            " 8   FoodCourt     8510 non-null   float64\n",
            " 9   ShoppingMall  8485 non-null   float64\n",
            " 10  Spa           8510 non-null   float64\n",
            " 11  VRDeck        8505 non-null   float64\n",
            " 12  Name          8493 non-null   object \n",
            " 13  Transported   8693 non-null   bool   \n",
            "dtypes: bool(1), float64(6), object(7)\n",
            "memory usage: 891.5+ KB\n"
          ]
        }
      ]
    },
    {
      "cell_type": "code",
      "source": [
        "os.getcwd()"
      ],
      "metadata": {
        "id": "O8EU0X-9bmR7",
        "colab": {
          "base_uri": "https://localhost:8080/",
          "height": 35
        },
        "outputId": "df9a50a7-0016-4296-dbb2-6923f9a2bd72"
      },
      "execution_count": null,
      "outputs": [
        {
          "output_type": "execute_result",
          "data": {
            "text/plain": [
              "'/content/gdrive/MyDrive/Colab_Notebooks'"
            ],
            "application/vnd.google.colaboratory.intrinsic+json": {
              "type": "string"
            }
          },
          "metadata": {},
          "execution_count": 12
        }
      ]
    },
    {
      "cell_type": "code",
      "source": [
        "ls\n"
      ],
      "metadata": {
        "colab": {
          "base_uri": "https://localhost:8080/"
        },
        "id": "elwKlGb-s7Dt",
        "outputId": "150da75c-40da-4211-fe5e-3b4ce8b263f6"
      },
      "execution_count": null,
      "outputs": [
        {
          "output_type": "stream",
          "name": "stdout",
          "text": [
            "ML_project2.ipynb  \u001b[0m\u001b[01;34mspaceship-titanic\u001b[0m/\n"
          ]
        }
      ]
    },
    {
      "cell_type": "code",
      "source": [
        "import seaborn as sns\n",
        "import os"
      ],
      "metadata": {
        "id": "k_1Wx3sxbmb8",
        "colab": {
          "base_uri": "https://localhost:8080/"
        },
        "outputId": "536f5ada-37de-4083-aaca-428d8aa7bf0a"
      },
      "execution_count": null,
      "outputs": [
        {
          "output_type": "stream",
          "name": "stdout",
          "text": [
            "/bin/bash: -c: line 1: syntax error: unexpected end of file\n"
          ]
        }
      ]
    }
  ]
}
>>>>>>> 83a66618423c4cfeac84eb6d412892bc06bd4c5c
